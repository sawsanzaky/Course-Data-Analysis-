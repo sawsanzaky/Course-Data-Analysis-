{
  "nbformat": 4,
  "nbformat_minor": 0,
  "metadata": {
    "colab": {
      "provenance": [],
      "authorship_tag": "ABX9TyPVomhniJvSGHSaWJdqg7qc",
      "include_colab_link": true
    },
    "kernelspec": {
      "name": "python3",
      "display_name": "Python 3"
    },
    "language_info": {
      "name": "python"
    }
  },
  "cells": [
    {
      "cell_type": "markdown",
      "metadata": {
        "id": "view-in-github",
        "colab_type": "text"
      },
      "source": [
        "<a href=\"https://colab.research.google.com/github/sawsanzaky/Course-Data-Analysis-/blob/main/Python_DataAnalysis_Numpy.ipynb\" target=\"_parent\"><img src=\"https://colab.research.google.com/assets/colab-badge.svg\" alt=\"Open In Colab\"/></a>"
      ]
    },
    {
      "cell_type": "markdown",
      "source": [
        "**NumPy**"
      ],
      "metadata": {
        "id": "zCBAxXWNaCDv"
      }
    },
    {
      "cell_type": "markdown",
      "source": [
        "NumPy library is one of the fundamental packages for scientific computing in Python. It provides support for arrays, matrices, and many mathematical functions to operate on these data structures. It is widely used in data science, machine learning, and scientific computing due to its high performance and ease of use"
      ],
      "metadata": {
        "id": "XQ_doxeaaG0H"
      }
    },
    {
      "cell_type": "markdown",
      "source": [
        "**Key Features of NumPy:**\n",
        "N-dimensional array (ndarray): NumPy introduces the ndarray (n-dimensional array), which is a powerful data structure that allows for efficient storage and manipulation of numerical data.\n",
        "\n",
        "Example:"
      ],
      "metadata": {
        "id": "iNbGh8ydaSHD"
      }
    },
    {
      "cell_type": "code",
      "execution_count": 1,
      "metadata": {
        "colab": {
          "base_uri": "https://localhost:8080/"
        },
        "id": "ipKjtuQYZ4tT",
        "outputId": "45bfe7b7-cb10-417b-f505-6e80c40ebc94"
      },
      "outputs": [
        {
          "output_type": "stream",
          "name": "stdout",
          "text": [
            "[1 2 3 4 5]\n",
            "[[1 2]\n",
            " [3 4]]\n"
          ]
        }
      ],
      "source": [
        "import numpy as np\n",
        "\n",
        "# Creating a 1D array\n",
        "arr = np.array([1, 2, 3, 4, 5])\n",
        "print(arr)  # Output: [1 2 3 4 5]\n",
        "\n",
        "# Creating a 2D array (matrix)\n",
        "arr2d = np.array([[1, 2], [3, 4]])\n",
        "print(arr2d)  # Output: [[1 2]\n",
        "              #          [3 4]]\n"
      ]
    },
    {
      "cell_type": "code",
      "source": [
        "arr = np.array([1, 2, 3, 4])\n",
        "print(arr * 2)  # Output: [2 4 6 8]\n",
        "print(arr + 5)  # Output: [6 7 8 9]\n"
      ],
      "metadata": {
        "colab": {
          "base_uri": "https://localhost:8080/"
        },
        "id": "dUsvkhGFaroo",
        "outputId": "afb81dfc-a6d5-4f9b-9ee8-51421b1f4285"
      },
      "execution_count": 2,
      "outputs": [
        {
          "output_type": "stream",
          "name": "stdout",
          "text": [
            "[2 4 6 8]\n",
            "[6 7 8 9]\n"
          ]
        }
      ]
    },
    {
      "cell_type": "code",
      "source": [
        "arr = np.array([1, 2, 3])\n",
        "print(np.sin(arr))  # Output: [0.84147098 0.90929743 0.14112001]\n",
        "print(np.log(arr))  # Output: [0.         0.69314718 1.09861229]\n"
      ],
      "metadata": {
        "colab": {
          "base_uri": "https://localhost:8080/"
        },
        "id": "ZaDivNhUa4vY",
        "outputId": "9e9a2480-5541-47ab-98e7-dea12feeb2ec"
      },
      "execution_count": 3,
      "outputs": [
        {
          "output_type": "stream",
          "name": "stdout",
          "text": [
            "[0.84147098 0.90929743 0.14112001]\n",
            "[0.         0.69314718 1.09861229]\n"
          ]
        }
      ]
    },
    {
      "cell_type": "code",
      "source": [
        "arr = np.array([1, 2, 3])\n",
        "scalar = 10\n",
        "print(arr + scalar)  # Output: [11 12 13]\n"
      ],
      "metadata": {
        "colab": {
          "base_uri": "https://localhost:8080/"
        },
        "id": "MhVq3n2Na7PR",
        "outputId": "9fae79d2-0676-4ba9-82d7-5ef69fc80477"
      },
      "execution_count": 4,
      "outputs": [
        {
          "output_type": "stream",
          "name": "stdout",
          "text": [
            "[11 12 13]\n"
          ]
        }
      ]
    },
    {
      "cell_type": "code",
      "source": [
        "arr = np.array([1, 2, 3, 4, 5])\n",
        "\n",
        "# Accessing specific elements\n",
        "print(arr[0])  # Output: 1\n",
        "\n",
        "# Slicing (selecting a range of elements)\n",
        "print(arr[1:4])  # Output: [2 3 4]\n"
      ],
      "metadata": {
        "colab": {
          "base_uri": "https://localhost:8080/"
        },
        "id": "rzWm18rGa-kQ",
        "outputId": "abfce2e2-69a4-4f70-c99a-07a0eeebe8af"
      },
      "execution_count": 5,
      "outputs": [
        {
          "output_type": "stream",
          "name": "stdout",
          "text": [
            "1\n",
            "[2 3 4]\n"
          ]
        }
      ]
    },
    {
      "cell_type": "markdown",
      "source": [
        "**Linear Algebra**: NumPy contains functions to perform matrix operations, including dot products, matrix multiplication, determinant calculation, etc."
      ],
      "metadata": {
        "id": "fS4y4gsDbEIc"
      }
    },
    {
      "cell_type": "code",
      "source": [
        "A = np.array([[1, 2], [3, 4]])\n",
        "B = np.array([[5, 6], [7, 8]])\n",
        "\n",
        "print(np.dot(A, B))  # Matrix multiplication\n"
      ],
      "metadata": {
        "colab": {
          "base_uri": "https://localhost:8080/"
        },
        "id": "LzSPhPrabAuM",
        "outputId": "45715bc9-f7f5-4e3c-8354-ed58370a6a59"
      },
      "execution_count": 6,
      "outputs": [
        {
          "output_type": "stream",
          "name": "stdout",
          "text": [
            "[[19 22]\n",
            " [43 50]]\n"
          ]
        }
      ]
    },
    {
      "cell_type": "code",
      "source": [
        "rand_array = np.random.rand(3, 3)  # 3x3 array of random numbers between 0 and 1\n",
        "print(rand_array)\n",
        "\n",
        "random_int = np.random.randint(1, 10, 5)  # 5 random integers between 1 and 10\n",
        "print(random_int)\n"
      ],
      "metadata": {
        "colab": {
          "base_uri": "https://localhost:8080/"
        },
        "id": "5dq_KrSbbHah",
        "outputId": "044b29e9-8c5e-4c4c-8e22-1e363562bfbf"
      },
      "execution_count": 7,
      "outputs": [
        {
          "output_type": "stream",
          "name": "stdout",
          "text": [
            "[[0.82617882 0.6573338  0.1366152 ]\n",
            " [0.42428349 0.68474165 0.60595055]\n",
            " [0.43921893 0.30894506 0.87361799]]\n",
            "[8 2 6 2 2]\n"
          ]
        }
      ]
    },
    {
      "cell_type": "code",
      "source": [
        "arr = np.array([1, 2, 3, 4, 5, 6])\n",
        "arr_reshaped = arr.reshape(2, 3)\n",
        "print(arr_reshaped)\n"
      ],
      "metadata": {
        "colab": {
          "base_uri": "https://localhost:8080/"
        },
        "id": "K75qQkGpbJho",
        "outputId": "6a52608c-5587-4503-e5e2-7556a5a33500"
      },
      "execution_count": 8,
      "outputs": [
        {
          "output_type": "stream",
          "name": "stdout",
          "text": [
            "[[1 2 3]\n",
            " [4 5 6]]\n"
          ]
        }
      ]
    },
    {
      "cell_type": "code",
      "source": [
        "data = np.array([1, 2, 3, 4, 5])\n",
        "print(np.mean(data))  # Output: 3.0\n",
        "print(np.median(data))  # Output: 3.0\n"
      ],
      "metadata": {
        "colab": {
          "base_uri": "https://localhost:8080/"
        },
        "id": "FqUa-hsObMxG",
        "outputId": "8167dfc0-a59f-4c5a-99c8-1ef2d2d4c8c6"
      },
      "execution_count": 9,
      "outputs": [
        {
          "output_type": "stream",
          "name": "stdout",
          "text": [
            "3.0\n",
            "3.0\n"
          ]
        }
      ]
    },
    {
      "cell_type": "code",
      "source": [
        "arr = np.array([1, 2, 3, 4, 5])\n",
        "print(np.sum(arr))  # Output: 15\n",
        "print(np.mean(arr))  # Output: 3.0\n",
        "print(np.max(arr))  # Output: 5\n",
        "print(np.min(arr))  # Output: 1\n"
      ],
      "metadata": {
        "colab": {
          "base_uri": "https://localhost:8080/"
        },
        "id": "gQeGDHeSbO8J",
        "outputId": "98aa1202-ad31-4efc-d6ea-fb71d9a8fcff"
      },
      "execution_count": 10,
      "outputs": [
        {
          "output_type": "stream",
          "name": "stdout",
          "text": [
            "15\n",
            "3.0\n",
            "5\n",
            "1\n"
          ]
        }
      ]
    },
    {
      "cell_type": "code",
      "source": [
        "arr1 = np.array([1, 2, 3])\n",
        "arr2 = np.array([4, 5, 6])\n",
        "concatenated = np.concatenate([arr1, arr2])  # [1 2 3 4 5 6]\n"
      ],
      "metadata": {
        "id": "w24LOVsabRJv"
      },
      "execution_count": 11,
      "outputs": []
    },
    {
      "cell_type": "code",
      "source": [],
      "metadata": {
        "id": "-ff5hwF4bTFA"
      },
      "execution_count": null,
      "outputs": []
    }
  ]
}